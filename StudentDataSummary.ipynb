{
 "cells": [
  {
   "cell_type": "code",
   "execution_count": 20,
   "id": "7f04ff99",
   "metadata": {},
   "outputs": [],
   "source": [
    "import pandas as pd"
   ]
  },
  {
   "cell_type": "markdown",
   "id": "36f7d691",
   "metadata": {},
   "source": [
    "### Import data set and create data frame"
   ]
  },
  {
   "cell_type": "code",
   "execution_count": 21,
   "id": "3cd7c6ac",
   "metadata": {},
   "outputs": [],
   "source": [
    "studentData = pd.read_csv('StudentsPerformance.csv')\n",
    "data = pd.DataFrame(studentData)"
   ]
  },
  {
   "cell_type": "markdown",
   "id": "def18722",
   "metadata": {},
   "source": [
    "### Data Summary"
   ]
  },
  {
   "cell_type": "code",
   "execution_count": 22,
   "id": "59dfe2c8",
   "metadata": {},
   "outputs": [
    {
     "data": {
      "text/html": [
       "<div>\n",
       "<style scoped>\n",
       "    .dataframe tbody tr th:only-of-type {\n",
       "        vertical-align: middle;\n",
       "    }\n",
       "\n",
       "    .dataframe tbody tr th {\n",
       "        vertical-align: top;\n",
       "    }\n",
       "\n",
       "    .dataframe thead th {\n",
       "        text-align: right;\n",
       "    }\n",
       "</style>\n",
       "<table border=\"1\" class=\"dataframe\">\n",
       "  <thead>\n",
       "    <tr style=\"text-align: right;\">\n",
       "      <th></th>\n",
       "      <th>gender</th>\n",
       "      <th>race/ethnicity</th>\n",
       "      <th>parental level of education</th>\n",
       "      <th>lunch</th>\n",
       "      <th>test preparation course</th>\n",
       "      <th>math score</th>\n",
       "      <th>reading score</th>\n",
       "      <th>writing score</th>\n",
       "    </tr>\n",
       "  </thead>\n",
       "  <tbody>\n",
       "    <tr>\n",
       "      <th>0</th>\n",
       "      <td>female</td>\n",
       "      <td>group B</td>\n",
       "      <td>bachelor's degree</td>\n",
       "      <td>standard</td>\n",
       "      <td>none</td>\n",
       "      <td>72</td>\n",
       "      <td>72</td>\n",
       "      <td>74</td>\n",
       "    </tr>\n",
       "    <tr>\n",
       "      <th>1</th>\n",
       "      <td>female</td>\n",
       "      <td>group C</td>\n",
       "      <td>some college</td>\n",
       "      <td>standard</td>\n",
       "      <td>completed</td>\n",
       "      <td>69</td>\n",
       "      <td>90</td>\n",
       "      <td>88</td>\n",
       "    </tr>\n",
       "    <tr>\n",
       "      <th>2</th>\n",
       "      <td>female</td>\n",
       "      <td>group B</td>\n",
       "      <td>master's degree</td>\n",
       "      <td>standard</td>\n",
       "      <td>none</td>\n",
       "      <td>90</td>\n",
       "      <td>95</td>\n",
       "      <td>93</td>\n",
       "    </tr>\n",
       "    <tr>\n",
       "      <th>3</th>\n",
       "      <td>male</td>\n",
       "      <td>group A</td>\n",
       "      <td>associate's degree</td>\n",
       "      <td>free/reduced</td>\n",
       "      <td>none</td>\n",
       "      <td>47</td>\n",
       "      <td>57</td>\n",
       "      <td>44</td>\n",
       "    </tr>\n",
       "    <tr>\n",
       "      <th>4</th>\n",
       "      <td>male</td>\n",
       "      <td>group C</td>\n",
       "      <td>some college</td>\n",
       "      <td>standard</td>\n",
       "      <td>none</td>\n",
       "      <td>76</td>\n",
       "      <td>78</td>\n",
       "      <td>75</td>\n",
       "    </tr>\n",
       "  </tbody>\n",
       "</table>\n",
       "</div>"
      ],
      "text/plain": [
       "   gender race/ethnicity parental level of education         lunch  \\\n",
       "0  female        group B           bachelor's degree      standard   \n",
       "1  female        group C                some college      standard   \n",
       "2  female        group B             master's degree      standard   \n",
       "3    male        group A          associate's degree  free/reduced   \n",
       "4    male        group C                some college      standard   \n",
       "\n",
       "  test preparation course  math score  reading score  writing score  \n",
       "0                    none          72             72             74  \n",
       "1               completed          69             90             88  \n",
       "2                    none          90             95             93  \n",
       "3                    none          47             57             44  \n",
       "4                    none          76             78             75  "
      ]
     },
     "execution_count": 22,
     "metadata": {},
     "output_type": "execute_result"
    }
   ],
   "source": [
    "data.head()"
   ]
  },
  {
   "cell_type": "code",
   "execution_count": 23,
   "id": "20d84cb7",
   "metadata": {},
   "outputs": [
    {
     "data": {
      "text/plain": [
       "(1000, 8)"
      ]
     },
     "execution_count": 23,
     "metadata": {},
     "output_type": "execute_result"
    }
   ],
   "source": [
    "data.shape"
   ]
  },
  {
   "cell_type": "code",
   "execution_count": 24,
   "id": "5005f411",
   "metadata": {},
   "outputs": [
    {
     "data": {
      "text/html": [
       "<div>\n",
       "<style scoped>\n",
       "    .dataframe tbody tr th:only-of-type {\n",
       "        vertical-align: middle;\n",
       "    }\n",
       "\n",
       "    .dataframe tbody tr th {\n",
       "        vertical-align: top;\n",
       "    }\n",
       "\n",
       "    .dataframe thead th {\n",
       "        text-align: right;\n",
       "    }\n",
       "</style>\n",
       "<table border=\"1\" class=\"dataframe\">\n",
       "  <thead>\n",
       "    <tr style=\"text-align: right;\">\n",
       "      <th></th>\n",
       "      <th>math score</th>\n",
       "      <th>reading score</th>\n",
       "      <th>writing score</th>\n",
       "    </tr>\n",
       "  </thead>\n",
       "  <tbody>\n",
       "    <tr>\n",
       "      <th>count</th>\n",
       "      <td>1000.00000</td>\n",
       "      <td>1000.000000</td>\n",
       "      <td>1000.000000</td>\n",
       "    </tr>\n",
       "    <tr>\n",
       "      <th>mean</th>\n",
       "      <td>66.08900</td>\n",
       "      <td>69.169000</td>\n",
       "      <td>68.054000</td>\n",
       "    </tr>\n",
       "    <tr>\n",
       "      <th>std</th>\n",
       "      <td>15.16308</td>\n",
       "      <td>14.600192</td>\n",
       "      <td>15.195657</td>\n",
       "    </tr>\n",
       "    <tr>\n",
       "      <th>min</th>\n",
       "      <td>0.00000</td>\n",
       "      <td>17.000000</td>\n",
       "      <td>10.000000</td>\n",
       "    </tr>\n",
       "    <tr>\n",
       "      <th>25%</th>\n",
       "      <td>57.00000</td>\n",
       "      <td>59.000000</td>\n",
       "      <td>57.750000</td>\n",
       "    </tr>\n",
       "    <tr>\n",
       "      <th>50%</th>\n",
       "      <td>66.00000</td>\n",
       "      <td>70.000000</td>\n",
       "      <td>69.000000</td>\n",
       "    </tr>\n",
       "    <tr>\n",
       "      <th>75%</th>\n",
       "      <td>77.00000</td>\n",
       "      <td>79.000000</td>\n",
       "      <td>79.000000</td>\n",
       "    </tr>\n",
       "    <tr>\n",
       "      <th>max</th>\n",
       "      <td>100.00000</td>\n",
       "      <td>100.000000</td>\n",
       "      <td>100.000000</td>\n",
       "    </tr>\n",
       "  </tbody>\n",
       "</table>\n",
       "</div>"
      ],
      "text/plain": [
       "       math score  reading score  writing score\n",
       "count  1000.00000    1000.000000    1000.000000\n",
       "mean     66.08900      69.169000      68.054000\n",
       "std      15.16308      14.600192      15.195657\n",
       "min       0.00000      17.000000      10.000000\n",
       "25%      57.00000      59.000000      57.750000\n",
       "50%      66.00000      70.000000      69.000000\n",
       "75%      77.00000      79.000000      79.000000\n",
       "max     100.00000     100.000000     100.000000"
      ]
     },
     "execution_count": 24,
     "metadata": {},
     "output_type": "execute_result"
    }
   ],
   "source": [
    "data.describe()"
   ]
  },
  {
   "cell_type": "code",
   "execution_count": 25,
   "id": "2af9f06c",
   "metadata": {},
   "outputs": [
    {
     "data": {
      "text/plain": [
       "female    518\n",
       "male      482\n",
       "Name: gender, dtype: int64"
      ]
     },
     "execution_count": 25,
     "metadata": {},
     "output_type": "execute_result"
    }
   ],
   "source": [
    "data['gender'].value_counts()"
   ]
  },
  {
   "cell_type": "code",
   "execution_count": 26,
   "id": "47b00195",
   "metadata": {},
   "outputs": [
    {
     "data": {
      "text/plain": [
       "group C    319\n",
       "group D    262\n",
       "group B    190\n",
       "group E    140\n",
       "group A     89\n",
       "Name: race/ethnicity, dtype: int64"
      ]
     },
     "execution_count": 26,
     "metadata": {},
     "output_type": "execute_result"
    }
   ],
   "source": [
    "data['race/ethnicity'].value_counts()"
   ]
  },
  {
   "cell_type": "code",
   "execution_count": 27,
   "id": "d07912b4",
   "metadata": {},
   "outputs": [
    {
     "data": {
      "text/plain": [
       "some college          226\n",
       "associate's degree    222\n",
       "high school           196\n",
       "some high school      179\n",
       "bachelor's degree     118\n",
       "master's degree        59\n",
       "Name: parental level of education, dtype: int64"
      ]
     },
     "execution_count": 27,
     "metadata": {},
     "output_type": "execute_result"
    }
   ],
   "source": [
    "data['parental level of education'].value_counts()"
   ]
  },
  {
   "cell_type": "code",
   "execution_count": 28,
   "id": "60c98e4d",
   "metadata": {},
   "outputs": [
    {
     "data": {
      "text/plain": [
       "standard        645\n",
       "free/reduced    355\n",
       "Name: lunch, dtype: int64"
      ]
     },
     "execution_count": 28,
     "metadata": {},
     "output_type": "execute_result"
    }
   ],
   "source": [
    "data['lunch'].value_counts()"
   ]
  },
  {
   "cell_type": "code",
   "execution_count": 29,
   "id": "ff22f670",
   "metadata": {},
   "outputs": [
    {
     "data": {
      "text/plain": [
       "none         642\n",
       "completed    358\n",
       "Name: test preparation course, dtype: int64"
      ]
     },
     "execution_count": 29,
     "metadata": {},
     "output_type": "execute_result"
    }
   ],
   "source": [
    "data['test preparation course'].value_counts()"
   ]
  },
  {
   "cell_type": "markdown",
   "id": "016ec15c",
   "metadata": {},
   "source": [
    "### Comparisons"
   ]
  },
  {
   "cell_type": "markdown",
   "id": "4ff61519",
   "metadata": {},
   "source": [
    "Comparing average test scores for each subject between each column.\n",
    "* male vs. female\n",
    "* race/ethnicity groups\n",
    "* parent's level of education\n",
    "* type of lunch (free/reduced or standard pricing)\n",
    "* whether or not student participated in test\n",
    "\n",
    "Another question to ask:\n",
    "* Is there a trend between parent's level of education and each of the other categorical columns (aside from gender in this case) ?"
   ]
  },
  {
   "cell_type": "code",
   "execution_count": 30,
   "id": "0830f5b1",
   "metadata": {},
   "outputs": [
    {
     "data": {
      "text/html": [
       "<div>\n",
       "<style scoped>\n",
       "    .dataframe tbody tr th:only-of-type {\n",
       "        vertical-align: middle;\n",
       "    }\n",
       "\n",
       "    .dataframe tbody tr th {\n",
       "        vertical-align: top;\n",
       "    }\n",
       "\n",
       "    .dataframe thead th {\n",
       "        text-align: right;\n",
       "    }\n",
       "</style>\n",
       "<table border=\"1\" class=\"dataframe\">\n",
       "  <thead>\n",
       "    <tr style=\"text-align: right;\">\n",
       "      <th></th>\n",
       "      <th>gender</th>\n",
       "      <th>race/ethnicity</th>\n",
       "      <th>parental level of education</th>\n",
       "      <th>lunch</th>\n",
       "      <th>test preparation course</th>\n",
       "      <th>math score</th>\n",
       "      <th>reading score</th>\n",
       "      <th>writing score</th>\n",
       "    </tr>\n",
       "  </thead>\n",
       "  <tbody>\n",
       "    <tr>\n",
       "      <th>669</th>\n",
       "      <td>male</td>\n",
       "      <td>group D</td>\n",
       "      <td>associate's degree</td>\n",
       "      <td>standard</td>\n",
       "      <td>completed</td>\n",
       "      <td>81</td>\n",
       "      <td>72</td>\n",
       "      <td>77</td>\n",
       "    </tr>\n",
       "    <tr>\n",
       "      <th>457</th>\n",
       "      <td>male</td>\n",
       "      <td>group D</td>\n",
       "      <td>associate's degree</td>\n",
       "      <td>free/reduced</td>\n",
       "      <td>none</td>\n",
       "      <td>53</td>\n",
       "      <td>54</td>\n",
       "      <td>48</td>\n",
       "    </tr>\n",
       "    <tr>\n",
       "      <th>454</th>\n",
       "      <td>female</td>\n",
       "      <td>group C</td>\n",
       "      <td>associate's degree</td>\n",
       "      <td>free/reduced</td>\n",
       "      <td>none</td>\n",
       "      <td>53</td>\n",
       "      <td>61</td>\n",
       "      <td>62</td>\n",
       "    </tr>\n",
       "    <tr>\n",
       "      <th>452</th>\n",
       "      <td>female</td>\n",
       "      <td>group C</td>\n",
       "      <td>associate's degree</td>\n",
       "      <td>free/reduced</td>\n",
       "      <td>none</td>\n",
       "      <td>65</td>\n",
       "      <td>77</td>\n",
       "      <td>74</td>\n",
       "    </tr>\n",
       "    <tr>\n",
       "      <th>173</th>\n",
       "      <td>female</td>\n",
       "      <td>group C</td>\n",
       "      <td>associate's degree</td>\n",
       "      <td>standard</td>\n",
       "      <td>none</td>\n",
       "      <td>63</td>\n",
       "      <td>67</td>\n",
       "      <td>70</td>\n",
       "    </tr>\n",
       "    <tr>\n",
       "      <th>...</th>\n",
       "      <td>...</td>\n",
       "      <td>...</td>\n",
       "      <td>...</td>\n",
       "      <td>...</td>\n",
       "      <td>...</td>\n",
       "      <td>...</td>\n",
       "      <td>...</td>\n",
       "      <td>...</td>\n",
       "    </tr>\n",
       "    <tr>\n",
       "      <th>513</th>\n",
       "      <td>female</td>\n",
       "      <td>group B</td>\n",
       "      <td>some high school</td>\n",
       "      <td>standard</td>\n",
       "      <td>completed</td>\n",
       "      <td>54</td>\n",
       "      <td>61</td>\n",
       "      <td>62</td>\n",
       "    </tr>\n",
       "    <tr>\n",
       "      <th>515</th>\n",
       "      <td>female</td>\n",
       "      <td>group C</td>\n",
       "      <td>some high school</td>\n",
       "      <td>standard</td>\n",
       "      <td>completed</td>\n",
       "      <td>76</td>\n",
       "      <td>87</td>\n",
       "      <td>85</td>\n",
       "    </tr>\n",
       "    <tr>\n",
       "      <th>265</th>\n",
       "      <td>male</td>\n",
       "      <td>group D</td>\n",
       "      <td>some high school</td>\n",
       "      <td>free/reduced</td>\n",
       "      <td>none</td>\n",
       "      <td>59</td>\n",
       "      <td>42</td>\n",
       "      <td>41</td>\n",
       "    </tr>\n",
       "    <tr>\n",
       "      <th>853</th>\n",
       "      <td>male</td>\n",
       "      <td>group E</td>\n",
       "      <td>some high school</td>\n",
       "      <td>standard</td>\n",
       "      <td>none</td>\n",
       "      <td>82</td>\n",
       "      <td>67</td>\n",
       "      <td>61</td>\n",
       "    </tr>\n",
       "    <tr>\n",
       "      <th>336</th>\n",
       "      <td>male</td>\n",
       "      <td>group D</td>\n",
       "      <td>some high school</td>\n",
       "      <td>standard</td>\n",
       "      <td>completed</td>\n",
       "      <td>76</td>\n",
       "      <td>70</td>\n",
       "      <td>69</td>\n",
       "    </tr>\n",
       "  </tbody>\n",
       "</table>\n",
       "<p>1000 rows × 8 columns</p>\n",
       "</div>"
      ],
      "text/plain": [
       "     gender race/ethnicity parental level of education         lunch  \\\n",
       "669    male        group D          associate's degree      standard   \n",
       "457    male        group D          associate's degree  free/reduced   \n",
       "454  female        group C          associate's degree  free/reduced   \n",
       "452  female        group C          associate's degree  free/reduced   \n",
       "173  female        group C          associate's degree      standard   \n",
       "..      ...            ...                         ...           ...   \n",
       "513  female        group B            some high school      standard   \n",
       "515  female        group C            some high school      standard   \n",
       "265    male        group D            some high school  free/reduced   \n",
       "853    male        group E            some high school      standard   \n",
       "336    male        group D            some high school      standard   \n",
       "\n",
       "    test preparation course  math score  reading score  writing score  \n",
       "669               completed          81             72             77  \n",
       "457                    none          53             54             48  \n",
       "454                    none          53             61             62  \n",
       "452                    none          65             77             74  \n",
       "173                    none          63             67             70  \n",
       "..                      ...         ...            ...            ...  \n",
       "513               completed          54             61             62  \n",
       "515               completed          76             87             85  \n",
       "265                    none          59             42             41  \n",
       "853                    none          82             67             61  \n",
       "336               completed          76             70             69  \n",
       "\n",
       "[1000 rows x 8 columns]"
      ]
     },
     "execution_count": 30,
     "metadata": {},
     "output_type": "execute_result"
    }
   ],
   "source": [
    "# Reorganizing data frame by order of parent's education level - the comparison will show better in the graph\n",
    "\n",
    "data.sort_values('parental level of education')"
   ]
  },
  {
   "cell_type": "markdown",
   "id": "9708eb86",
   "metadata": {},
   "source": [
    "**Male vs. Female Scores**"
   ]
  },
  {
   "cell_type": "code",
   "execution_count": 31,
   "id": "06072a71",
   "metadata": {},
   "outputs": [],
   "source": [
    "fmath = data.loc[data['gender'] == 'female', 'math score'].mean()\n",
    "mmath = data.loc[data['gender'] == 'male', 'math score'].mean()\n",
    "\n",
    "freading = data.loc[data['gender'] == 'female', 'reading score'].mean()\n",
    "mreading = data.loc[data['gender'] == 'male', 'reading score'].mean()\n",
    "\n",
    "fwriting = data.loc[data['gender'] == 'female', 'writing score'].mean()\n",
    "mwriting = data.loc[data['gender'] == 'female', 'writing score'].mean()"
   ]
  },
  {
   "cell_type": "code",
   "execution_count": 32,
   "id": "180c3cc4",
   "metadata": {},
   "outputs": [
    {
     "data": {
      "text/html": [
       "<div>\n",
       "<style scoped>\n",
       "    .dataframe tbody tr th:only-of-type {\n",
       "        vertical-align: middle;\n",
       "    }\n",
       "\n",
       "    .dataframe tbody tr th {\n",
       "        vertical-align: top;\n",
       "    }\n",
       "\n",
       "    .dataframe thead th {\n",
       "        text-align: right;\n",
       "    }\n",
       "</style>\n",
       "<table border=\"1\" class=\"dataframe\">\n",
       "  <thead>\n",
       "    <tr style=\"text-align: right;\">\n",
       "      <th></th>\n",
       "      <th>Average Math Scores</th>\n",
       "      <th>Average Reading Scores</th>\n",
       "      <th>Average Writing Scores</th>\n",
       "    </tr>\n",
       "  </thead>\n",
       "  <tbody>\n",
       "    <tr>\n",
       "      <th>Female</th>\n",
       "      <td>63.63</td>\n",
       "      <td>72.61</td>\n",
       "      <td>72.47</td>\n",
       "    </tr>\n",
       "    <tr>\n",
       "      <th>Male</th>\n",
       "      <td>68.73</td>\n",
       "      <td>65.47</td>\n",
       "      <td>72.47</td>\n",
       "    </tr>\n",
       "  </tbody>\n",
       "</table>\n",
       "</div>"
      ],
      "text/plain": [
       "        Average Math Scores  Average Reading Scores  Average Writing Scores\n",
       "Female                63.63                   72.61                   72.47\n",
       "Male                  68.73                   65.47                   72.47"
      ]
     },
     "execution_count": 32,
     "metadata": {},
     "output_type": "execute_result"
    }
   ],
   "source": [
    "gender_info = {'Average Math Scores':[fmath, mmath], 'Average Reading Scores':[freading, mreading],\n",
    "              'Average Writing Scores':[fwriting, mwriting]}\n",
    "genderCompare = pd.DataFrame(gender_info, index =['Female', 'Male']).round(2)\n",
    "genderCompare"
   ]
  },
  {
   "cell_type": "markdown",
   "id": "f1580890",
   "metadata": {},
   "source": [
    "**Race/Ethnicity Groups**"
   ]
  },
  {
   "cell_type": "code",
   "execution_count": 34,
   "id": "6e275746",
   "metadata": {},
   "outputs": [],
   "source": [
    "groupA_math = data.loc[data['race/ethnicity'] == 'group A', 'math score'].mean()\n",
    "groupB_math = data.loc[data['race/ethnicity'] == 'group B', 'math score'].mean()\n",
    "groupC_math = data.loc[data['race/ethnicity'] == 'group C', 'math score'].mean()\n",
    "groupD_math = data.loc[data['race/ethnicity'] == 'group D', 'math score'].mean()\n",
    "groupE_math = data.loc[data['race/ethnicity'] == 'group E', 'math score'].mean()\n",
    "\n",
    "groupA_reading = data.loc[data['race/ethnicity'] == 'group A', 'reading score'].mean()\n",
    "groupB_reading = data.loc[data['race/ethnicity'] == 'group B', 'reading score'].mean()\n",
    "groupC_reading = data.loc[data['race/ethnicity'] == 'group C', 'reading score'].mean()\n",
    "groupD_reading = data.loc[data['race/ethnicity'] == 'group D', 'reading score'].mean()\n",
    "groupE_reading = data.loc[data['race/ethnicity'] == 'group E', 'reading score'].mean()\n",
    "\n",
    "groupA_writing = data.loc[data['race/ethnicity'] == 'group A', 'writing score'].mean()\n",
    "groupB_writing = data.loc[data['race/ethnicity'] == 'group B', 'writing score'].mean()\n",
    "groupC_writing = data.loc[data['race/ethnicity'] == 'group C', 'writing score'].mean()\n",
    "groupD_writing = data.loc[data['race/ethnicity'] == 'group D', 'writing score'].mean()\n",
    "groupE_writing = data.loc[data['race/ethnicity'] == 'group E', 'writing score'].mean()"
   ]
  },
  {
   "cell_type": "code",
   "execution_count": 37,
   "id": "27d42d5c",
   "metadata": {},
   "outputs": [
    {
     "data": {
      "text/html": [
       "<div>\n",
       "<style scoped>\n",
       "    .dataframe tbody tr th:only-of-type {\n",
       "        vertical-align: middle;\n",
       "    }\n",
       "\n",
       "    .dataframe tbody tr th {\n",
       "        vertical-align: top;\n",
       "    }\n",
       "\n",
       "    .dataframe thead th {\n",
       "        text-align: right;\n",
       "    }\n",
       "</style>\n",
       "<table border=\"1\" class=\"dataframe\">\n",
       "  <thead>\n",
       "    <tr style=\"text-align: right;\">\n",
       "      <th></th>\n",
       "      <th>Average Math Scores</th>\n",
       "      <th>Average Reading Scores</th>\n",
       "      <th>Average Writing Scores</th>\n",
       "    </tr>\n",
       "  </thead>\n",
       "  <tbody>\n",
       "    <tr>\n",
       "      <th>Group A</th>\n",
       "      <td>61.63</td>\n",
       "      <td>64.67</td>\n",
       "      <td>62.67</td>\n",
       "    </tr>\n",
       "    <tr>\n",
       "      <th>Group B</th>\n",
       "      <td>63.45</td>\n",
       "      <td>67.35</td>\n",
       "      <td>65.60</td>\n",
       "    </tr>\n",
       "    <tr>\n",
       "      <th>Group C</th>\n",
       "      <td>64.46</td>\n",
       "      <td>69.10</td>\n",
       "      <td>67.83</td>\n",
       "    </tr>\n",
       "    <tr>\n",
       "      <th>Group D</th>\n",
       "      <td>67.36</td>\n",
       "      <td>70.03</td>\n",
       "      <td>70.15</td>\n",
       "    </tr>\n",
       "    <tr>\n",
       "      <th>Group E</th>\n",
       "      <td>73.82</td>\n",
       "      <td>73.03</td>\n",
       "      <td>71.41</td>\n",
       "    </tr>\n",
       "  </tbody>\n",
       "</table>\n",
       "</div>"
      ],
      "text/plain": [
       "         Average Math Scores  Average Reading Scores  Average Writing Scores\n",
       "Group A                61.63                   64.67                   62.67\n",
       "Group B                63.45                   67.35                   65.60\n",
       "Group C                64.46                   69.10                   67.83\n",
       "Group D                67.36                   70.03                   70.15\n",
       "Group E                73.82                   73.03                   71.41"
      ]
     },
     "execution_count": 37,
     "metadata": {},
     "output_type": "execute_result"
    }
   ],
   "source": [
    "grouping_info = {'Average Math Scores':[groupA_math, groupB_math, groupC_math, groupD_math, groupE_math],\n",
    "                'Average Reading Scores': [groupA_reading, groupB_reading, groupC_reading, groupD_reading, groupE_reading],\n",
    "                'Average Writing Scores':[groupA_writing, groupB_writing, groupC_writing, groupD_writing, groupE_writing]}\n",
    "\n",
    "groupCompare = pd.DataFrame(grouping_info, index = ['Group A', 'Group B', 'Group C', 'Group D', 'Group E'])\n",
    "groupCompare.round(2)"
   ]
  },
  {
   "cell_type": "markdown",
   "id": "d047c702",
   "metadata": {},
   "source": [
    "**Parent's Level of Education**"
   ]
  },
  {
   "cell_type": "code",
   "execution_count": 39,
   "id": "0cbd2947",
   "metadata": {},
   "outputs": [],
   "source": [
    "cM = data.loc[data['parental level of education'] == 'some college', 'math score'].mean()\n",
    "aM = data.loc[data['parental level of education'] == \"associate's degree\", 'math score'].mean()\n",
    "hM = data.loc[data['parental level of education'] == 'high school', 'math score'].mean()\n",
    "someM = data.loc[data['parental level of education'] == 'some high school', 'math score'].mean()\n",
    "bM = data.loc[data['parental level of education'] == \"bachelor's degree\", 'math score'].mean()\n",
    "mM = data.loc[data['parental level of education'] == \"master's degree\", 'math score'].mean()\n",
    "\n",
    "cR = data.loc[data['parental level of education'] == 'some college', 'reading score'].mean()\n",
    "aR = data.loc[data['parental level of education'] == \"associate's degree\", 'reading score'].mean()\n",
    "hR = data.loc[data['parental level of education'] == 'high school', 'reading score'].mean()\n",
    "someR = data.loc[data['parental level of education'] == 'some high school', 'reading score'].mean()\n",
    "bR = data.loc[data['parental level of education'] == \"bachelor's degree\", 'reading score'].mean()\n",
    "mR = data.loc[data['parental level of education'] == \"master's degree\", 'reading score'].mean()\n",
    "\n",
    "cW = data.loc[data['parental level of education'] == 'some college', 'writing score'].mean()\n",
    "aW = data.loc[data['parental level of education'] == \"associate's degree\", 'writing score'].mean()\n",
    "hW = data.loc[data['parental level of education'] == 'high school', 'writing score'].mean()\n",
    "someW = data.loc[data['parental level of education'] == 'some high school', 'writing score'].mean()\n",
    "bW = data.loc[data['parental level of education'] == \"bachelor's degree\", 'writing score'].mean()\n",
    "mW = data.loc[data['parental level of education'] == \"master's degree\", 'writing score'].mean()"
   ]
  },
  {
   "cell_type": "code",
   "execution_count": 71,
   "id": "c4bef19e",
   "metadata": {},
   "outputs": [
    {
     "data": {
      "text/html": [
       "<div>\n",
       "<style scoped>\n",
       "    .dataframe tbody tr th:only-of-type {\n",
       "        vertical-align: middle;\n",
       "    }\n",
       "\n",
       "    .dataframe tbody tr th {\n",
       "        vertical-align: top;\n",
       "    }\n",
       "\n",
       "    .dataframe thead th {\n",
       "        text-align: right;\n",
       "    }\n",
       "</style>\n",
       "<table border=\"1\" class=\"dataframe\">\n",
       "  <thead>\n",
       "    <tr style=\"text-align: right;\">\n",
       "      <th></th>\n",
       "      <th>Average Math Scores</th>\n",
       "      <th>Average Reading Scores</th>\n",
       "      <th>Average Writing Scores</th>\n",
       "    </tr>\n",
       "  </thead>\n",
       "  <tbody>\n",
       "    <tr>\n",
       "      <th>Some High School</th>\n",
       "      <td>63.50</td>\n",
       "      <td>66.94</td>\n",
       "      <td>64.89</td>\n",
       "    </tr>\n",
       "    <tr>\n",
       "      <th>High School</th>\n",
       "      <td>62.14</td>\n",
       "      <td>64.70</td>\n",
       "      <td>62.45</td>\n",
       "    </tr>\n",
       "    <tr>\n",
       "      <th>Some College</th>\n",
       "      <td>67.13</td>\n",
       "      <td>69.46</td>\n",
       "      <td>68.84</td>\n",
       "    </tr>\n",
       "    <tr>\n",
       "      <th>Associate's Degree</th>\n",
       "      <td>67.88</td>\n",
       "      <td>70.93</td>\n",
       "      <td>69.90</td>\n",
       "    </tr>\n",
       "    <tr>\n",
       "      <th>Bachelor's Degree</th>\n",
       "      <td>69.39</td>\n",
       "      <td>73.00</td>\n",
       "      <td>73.38</td>\n",
       "    </tr>\n",
       "    <tr>\n",
       "      <th>Master's Degree</th>\n",
       "      <td>69.75</td>\n",
       "      <td>75.37</td>\n",
       "      <td>75.68</td>\n",
       "    </tr>\n",
       "  </tbody>\n",
       "</table>\n",
       "</div>"
      ],
      "text/plain": [
       "                    Average Math Scores  Average Reading Scores  \\\n",
       "Some High School                  63.50                   66.94   \n",
       "High School                       62.14                   64.70   \n",
       "Some College                      67.13                   69.46   \n",
       "Associate's Degree                67.88                   70.93   \n",
       "Bachelor's Degree                 69.39                   73.00   \n",
       "Master's Degree                   69.75                   75.37   \n",
       "\n",
       "                    Average Writing Scores  \n",
       "Some High School                     64.89  \n",
       "High School                          62.45  \n",
       "Some College                         68.84  \n",
       "Associate's Degree                   69.90  \n",
       "Bachelor's Degree                    73.38  \n",
       "Master's Degree                      75.68  "
      ]
     },
     "execution_count": 71,
     "metadata": {},
     "output_type": "execute_result"
    }
   ],
   "source": [
    "parents_info = {'Average Math Scores':[someM, hM, cM, aM, bM, mM], 'Average Reading Scores':[someR, hR, cR, aR, bR, mR],\n",
    "               'Average Writing Scores':[someW, hW, cW, aW, bW, mW]}\n",
    "parentsCompare = pd.DataFrame(parents_info, index = ['Some High School', \"High School\", 'Some College',\n",
    "                                                    \"Associate's Degree\", \"Bachelor's Degree\", \"Master's Degree\"])\n",
    "parentsCompare.round(2)"
   ]
  },
  {
   "cell_type": "markdown",
   "id": "6db7b1bb",
   "metadata": {},
   "source": [
    "**Type of Lunch**"
   ]
  },
  {
   "cell_type": "code",
   "execution_count": 43,
   "id": "f1c90769",
   "metadata": {},
   "outputs": [],
   "source": [
    "freeM = data.loc[data['lunch'] == 'free/reduced', 'math score'].mean()\n",
    "standM = data.loc[data['lunch'] == 'standard', 'math score'].mean()\n",
    "\n",
    "freeR = data.loc[data['lunch'] == 'free/reduced', 'reading score'].mean()\n",
    "standR = data.loc[data['lunch'] == 'standard', 'reading score'].mean()\n",
    "\n",
    "freeW = data.loc[data['lunch'] == 'free/reduced', 'writing score'].mean()\n",
    "standW = data.loc[data['lunch'] == 'standard', 'writing score'].mean()"
   ]
  },
  {
   "cell_type": "code",
   "execution_count": 44,
   "id": "d505733b",
   "metadata": {},
   "outputs": [
    {
     "data": {
      "text/html": [
       "<div>\n",
       "<style scoped>\n",
       "    .dataframe tbody tr th:only-of-type {\n",
       "        vertical-align: middle;\n",
       "    }\n",
       "\n",
       "    .dataframe tbody tr th {\n",
       "        vertical-align: top;\n",
       "    }\n",
       "\n",
       "    .dataframe thead th {\n",
       "        text-align: right;\n",
       "    }\n",
       "</style>\n",
       "<table border=\"1\" class=\"dataframe\">\n",
       "  <thead>\n",
       "    <tr style=\"text-align: right;\">\n",
       "      <th></th>\n",
       "      <th>Average Math Scores</th>\n",
       "      <th>Average Reading Scores</th>\n",
       "      <th>Writing Scores</th>\n",
       "    </tr>\n",
       "  </thead>\n",
       "  <tbody>\n",
       "    <tr>\n",
       "      <th>Free/Reduced</th>\n",
       "      <td>58.92</td>\n",
       "      <td>64.65</td>\n",
       "      <td>63.02</td>\n",
       "    </tr>\n",
       "    <tr>\n",
       "      <th>Standard</th>\n",
       "      <td>70.03</td>\n",
       "      <td>71.65</td>\n",
       "      <td>70.82</td>\n",
       "    </tr>\n",
       "  </tbody>\n",
       "</table>\n",
       "</div>"
      ],
      "text/plain": [
       "              Average Math Scores  Average Reading Scores  Writing Scores\n",
       "Free/Reduced                58.92                   64.65           63.02\n",
       "Standard                    70.03                   71.65           70.82"
      ]
     },
     "execution_count": 44,
     "metadata": {},
     "output_type": "execute_result"
    }
   ],
   "source": [
    "lunch_info = {'Average Math Scores':[freeM, standM], 'Average Reading Scores':[freeR, standR], \n",
    "              'Writing Scores':[freeW, standW]}\n",
    "lunchCompare = pd.DataFrame(lunch_info, index = ['Free/Reduced', 'Standard'])\n",
    "lunchCompare.round(2)"
   ]
  },
  {
   "cell_type": "markdown",
   "id": "cdf852b4",
   "metadata": {},
   "source": [
    "**Test Prep**"
   ]
  },
  {
   "cell_type": "code",
   "execution_count": 48,
   "id": "50cb9dee",
   "metadata": {},
   "outputs": [],
   "source": [
    "noM = data.loc[data['test preparation course'] == 'none', 'math score'].mean()\n",
    "yesM = data.loc[data['test preparation course'] == 'completed', 'math score'].mean()\n",
    "\n",
    "noR = data.loc[data['test preparation course'] == 'none', 'reading score'].mean()\n",
    "yesR = data.loc[data['test preparation course'] == 'completed', 'reading score'].mean()\n",
    "\n",
    "noW = data.loc[data['test preparation course'] == 'none', 'writing score'].mean()\n",
    "yesW = data.loc[data['test preparation course'] == 'completed', 'writing score'].mean()"
   ]
  },
  {
   "cell_type": "code",
   "execution_count": 49,
   "id": "d6236e19",
   "metadata": {},
   "outputs": [
    {
     "data": {
      "text/html": [
       "<div>\n",
       "<style scoped>\n",
       "    .dataframe tbody tr th:only-of-type {\n",
       "        vertical-align: middle;\n",
       "    }\n",
       "\n",
       "    .dataframe tbody tr th {\n",
       "        vertical-align: top;\n",
       "    }\n",
       "\n",
       "    .dataframe thead th {\n",
       "        text-align: right;\n",
       "    }\n",
       "</style>\n",
       "<table border=\"1\" class=\"dataframe\">\n",
       "  <thead>\n",
       "    <tr style=\"text-align: right;\">\n",
       "      <th></th>\n",
       "      <th>Average Math Scores</th>\n",
       "      <th>Average Reading Scores</th>\n",
       "      <th>Average Writing Scores</th>\n",
       "    </tr>\n",
       "  </thead>\n",
       "  <tbody>\n",
       "    <tr>\n",
       "      <th>Test Prep Course</th>\n",
       "      <td>69.70</td>\n",
       "      <td>73.89</td>\n",
       "      <td>74.42</td>\n",
       "    </tr>\n",
       "    <tr>\n",
       "      <th>None</th>\n",
       "      <td>64.08</td>\n",
       "      <td>66.53</td>\n",
       "      <td>64.50</td>\n",
       "    </tr>\n",
       "  </tbody>\n",
       "</table>\n",
       "</div>"
      ],
      "text/plain": [
       "                  Average Math Scores  Average Reading Scores  \\\n",
       "Test Prep Course                69.70                   73.89   \n",
       "None                            64.08                   66.53   \n",
       "\n",
       "                  Average Writing Scores  \n",
       "Test Prep Course                   74.42  \n",
       "None                               64.50  "
      ]
     },
     "execution_count": 49,
     "metadata": {},
     "output_type": "execute_result"
    }
   ],
   "source": [
    "prep_info = {'Average Math Scores':[yesM, noM], 'Average Reading Scores':[yesR, noR], 'Average Writing Scores':[yesW, noW]}\n",
    "prepCompare = pd.DataFrame(prep_info, index = ['Test Prep Course', 'None'])\n",
    "prepCompare.round(2)"
   ]
  },
  {
   "cell_type": "markdown",
   "id": "d3ae39d0",
   "metadata": {},
   "source": [
    "### Visualizations"
   ]
  },
  {
   "cell_type": "code",
   "execution_count": 58,
   "id": "b4f57c58",
   "metadata": {},
   "outputs": [],
   "source": [
    "import matplotlib.pyplot as plt"
   ]
  },
  {
   "cell_type": "markdown",
   "id": "e504d8ad",
   "metadata": {},
   "source": [
    "**Male vs. Female**"
   ]
  },
  {
   "cell_type": "code",
   "execution_count": 68,
   "id": "56a4fe3c",
   "metadata": {},
   "outputs": [
    {
     "data": {
      "image/png": "[encoded data removed]",
      "text/plain": [
       "<Figure size 720x360 with 1 Axes>"
      ]
     },
     "metadata": {
      "needs_background": "light"
     },
     "output_type": "display_data"
    }
   ],
   "source": [
    "genderCompare.T.plot.bar(rot = 0, figsize = (10,5));"
   ]
  },
  {
   "cell_type": "markdown",
   "id": "34c0fb72",
   "metadata": {},
   "source": [
    "**Race/Ethnicity Groups**"
   ]
  },
  {
   "cell_type": "code",
   "execution_count": 69,
   "id": "58677f91",
   "metadata": {},
   "outputs": [
    {
     "data": {
      "image/png": "[encoded data removed]",
      "text/plain": [
       "<Figure size 720x360 with 1 Axes>"
      ]
     },
     "metadata": {
      "needs_background": "light"
     },
     "output_type": "display_data"
    }
   ],
   "source": [
    "groupCompare.T.plot.bar(rot = 0, figsize = (10,5));"
   ]
  },
  {
   "cell_type": "markdown",
   "id": "5022499f",
   "metadata": {},
   "source": [
    "**Parent's Level of Education**"
   ]
  },
  {
   "cell_type": "code",
   "execution_count": 73,
   "id": "f1a89860",
   "metadata": {},
   "outputs": [
    {
     "data": {
      "image/png": "[encoded data removed]",
      "text/plain": [
       "<Figure size 720x360 with 1 Axes>"
      ]
     },
     "metadata": {
      "needs_background": "light"
     },
     "output_type": "display_data"
    }
   ],
   "source": [
    "parentsCompare.T.plot.bar(rot = 0, figsize = (10,5));"
   ]
  },
  {
   "cell_type": "markdown",
   "id": "55c53a0b",
   "metadata": {},
   "source": [
    "**Type of Lunch**"
   ]
  },
  {
   "cell_type": "code",
   "execution_count": 74,
   "id": "5c19719d",
   "metadata": {},
   "outputs": [
    {
     "data": {
      "image/png": "[encoded data removed]",
      "text/plain": [
       "<Figure size 720x360 with 1 Axes>"
      ]
     },
     "metadata": {
      "needs_background": "light"
     },
     "output_type": "display_data"
    }
   ],
   "source": [
    "lunchCompare.T.plot.bar(rot = 0, figsize = (10,5));"
   ]
  },
  {
   "cell_type": "markdown",
   "id": "93b9a1ac",
   "metadata": {},
   "source": [
    "**Test Prep**"
   ]
  },
  {
   "cell_type": "code",
   "execution_count": 75,
   "id": "bfd50cf8",
   "metadata": {},
   "outputs": [
    {
     "data": {
      "image/png": "[encoded data removed]",
      "text/plain": [
       "<Figure size 720x360 with 1 Axes>"
      ]
     },
     "metadata": {
      "needs_background": "light"
     },
     "output_type": "display_data"
    }
   ],
   "source": [
    "prepCompare.T.plot.bar(rot=0, figsize = (10,5));"
   ]
  }
 ],
 "metadata": {
  "kernelspec": {
   "display_name": "Python 3",
   "language": "python",
   "name": "python3"
  },
  "language_info": {
   "codemirror_mode": {
    "name": "ipython",
    "version": 3
   },
   "file_extension": ".py",
   "mimetype": "text/x-python",
   "name": "python",
   "nbconvert_exporter": "python",
   "pygments_lexer": "ipython3",
   "version": "3.8.8"
  }
 },
 "nbformat": 4,
 "nbformat_minor": 5
}
